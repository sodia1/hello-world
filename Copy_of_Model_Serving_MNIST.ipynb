{
  "nbformat": 4,
  "nbformat_minor": 0,
  "metadata": {
    "colab": {
      "name": "Copy of Model Serving - MNIST",
      "version": "0.3.2",
      "provenance": [],
      "collapsed_sections": [],
      "include_colab_link": true
    },
    "kernelspec": {
      "name": "python3",
      "display_name": "Python 3"
    },
    "accelerator": "GPU"
  },
  "cells": [
    {
      "cell_type": "markdown",
      "metadata": {
        "id": "view-in-github",
        "colab_type": "text"
      },
      "source": [
        "<a href=\"https://colab.research.google.com/github/sodia1/hello-world/blob/master/Copy_of_Model_Serving_MNIST.ipynb\" target=\"_parent\"><img src=\"https://colab.research.google.com/assets/colab-badge.svg\" alt=\"Open In Colab\"/></a>"
      ]
    },
    {
      "cell_type": "code",
      "metadata": {
        "id": "GTFVP_lNnSY5",
        "colab_type": "code",
        "outputId": "78f2262f-b7fb-4764-ff42-ab16a682e2cd",
        "colab": {
          "base_uri": "https://localhost:8080/",
          "height": 35
        }
      },
      "source": [
        "!rm -r tfmodel"
      ],
      "execution_count": 0,
      "outputs": [
        {
          "output_type": "stream",
          "text": [
            "rm: cannot remove 'tfmodel': No such file or directory\n"
          ],
          "name": "stdout"
        }
      ]
    },
    {
      "cell_type": "code",
      "metadata": {
        "id": "s4HzUCfcIltJ",
        "colab_type": "code",
        "outputId": "acbe732d-67fe-49c2-c5fa-9098c1c47649",
        "colab": {
          "base_uri": "https://localhost:8080/",
          "height": 312
        }
      },
      "source": [
        "!pip install tensorflow==1.11"
      ],
      "execution_count": 0,
      "outputs": [
        {
          "output_type": "stream",
          "text": [
            "Requirement already satisfied: tensorflow==1.11 in /usr/local/lib/python3.6/dist-packages (1.11.0)\n",
            "Requirement already satisfied: astor>=0.6.0 in /usr/local/lib/python3.6/dist-packages (from tensorflow==1.11) (0.8.0)\n",
            "Requirement already satisfied: keras-preprocessing>=1.0.3 in /usr/local/lib/python3.6/dist-packages (from tensorflow==1.11) (1.1.0)\n",
            "Requirement already satisfied: wheel>=0.26 in /usr/local/lib/python3.6/dist-packages (from tensorflow==1.11) (0.33.6)\n",
            "Requirement already satisfied: tensorboard<1.12.0,>=1.11.0 in /usr/local/lib/python3.6/dist-packages (from tensorflow==1.11) (1.11.0)\n",
            "Requirement already satisfied: keras-applications>=1.0.5 in /usr/local/lib/python3.6/dist-packages (from tensorflow==1.11) (1.0.8)\n",
            "Requirement already satisfied: absl-py>=0.1.6 in /usr/local/lib/python3.6/dist-packages (from tensorflow==1.11) (0.7.1)\n",
            "Requirement already satisfied: protobuf>=3.6.0 in /usr/local/lib/python3.6/dist-packages (from tensorflow==1.11) (3.7.1)\n",
            "Requirement already satisfied: setuptools<=39.1.0 in /usr/local/lib/python3.6/dist-packages (from tensorflow==1.11) (39.1.0)\n",
            "Requirement already satisfied: numpy>=1.13.3 in /usr/local/lib/python3.6/dist-packages (from tensorflow==1.11) (1.16.4)\n",
            "Requirement already satisfied: six>=1.10.0 in /usr/local/lib/python3.6/dist-packages (from tensorflow==1.11) (1.12.0)\n",
            "Requirement already satisfied: gast>=0.2.0 in /usr/local/lib/python3.6/dist-packages (from tensorflow==1.11) (0.2.2)\n",
            "Requirement already satisfied: termcolor>=1.1.0 in /usr/local/lib/python3.6/dist-packages (from tensorflow==1.11) (1.1.0)\n",
            "Requirement already satisfied: grpcio>=1.8.6 in /usr/local/lib/python3.6/dist-packages (from tensorflow==1.11) (1.15.0)\n",
            "Requirement already satisfied: werkzeug>=0.11.10 in /usr/local/lib/python3.6/dist-packages (from tensorboard<1.12.0,>=1.11.0->tensorflow==1.11) (0.15.5)\n",
            "Requirement already satisfied: markdown>=2.6.8 in /usr/local/lib/python3.6/dist-packages (from tensorboard<1.12.0,>=1.11.0->tensorflow==1.11) (3.1.1)\n",
            "Requirement already satisfied: h5py in /usr/local/lib/python3.6/dist-packages (from keras-applications>=1.0.5->tensorflow==1.11) (2.8.0)\n"
          ],
          "name": "stdout"
        }
      ]
    },
    {
      "cell_type": "code",
      "metadata": {
        "id": "DIacwIrGIh7P",
        "colab_type": "code",
        "outputId": "cf65abaa-c303-492b-93ed-9608e51d00f8",
        "colab": {
          "base_uri": "https://localhost:8080/",
          "height": 35
        }
      },
      "source": [
        "# Importing the necessary libraries\n",
        "import tensorflow as tf\n",
        "import numpy as np\n",
        "import os\n",
        "\n",
        "import matplotlib.pyplot as plt\n",
        "%matplotlib inline\n",
        "\n",
        "# checking the tensorflow version\n",
        "print(tf.__version__)"
      ],
      "execution_count": 0,
      "outputs": [
        {
          "output_type": "stream",
          "text": [
            "1.11.0\n"
          ],
          "name": "stdout"
        }
      ]
    },
    {
      "cell_type": "code",
      "metadata": {
        "id": "TJN6CkmEIxSq",
        "colab_type": "code",
        "outputId": "a7cd44b0-36d5-4f55-eec2-9272a0e489de",
        "colab": {
          "base_uri": "https://localhost:8080/",
          "height": 52
        }
      },
      "source": [
        "# Loading the mnist data from the inbuit datasets\n",
        "mnist = tf.keras.datasets.mnist\n",
        "(train_images, train_labels), (test_images, test_labels) = mnist.load_data()\n",
        "\n",
        "# reshaping the image into a 1D numpy array and Normalizing the data\n",
        "train_images = train_images.reshape(-1, 28 * 28) / 255.0\n",
        "test_images = test_images.reshape(-1, 28 * 28) / 255.0"
      ],
      "execution_count": 0,
      "outputs": [
        {
          "output_type": "stream",
          "text": [
            "Downloading data from https://storage.googleapis.com/tensorflow/tf-keras-datasets/mnist.npz\n",
            "11493376/11490434 [==============================] - 0s 0us/step\n"
          ],
          "name": "stdout"
        }
      ]
    },
    {
      "cell_type": "code",
      "metadata": {
        "id": "gsmVh0oZIzwV",
        "colab_type": "code",
        "colab": {}
      },
      "source": [
        "def encode_labels(labels):\n",
        "    \"\"\"\n",
        "    :param labels: labels from dataset\n",
        "    :return: One-Hot encoded labels\n",
        "    \"\"\"\n",
        "    return np.eye(10)[labels]"
      ],
      "execution_count": 0,
      "outputs": []
    },
    {
      "cell_type": "code",
      "metadata": {
        "id": "7vtNTLYAI13X",
        "colab_type": "code",
        "outputId": "9c7657df-ca1e-46cb-cbf7-98beb3e7bc4f",
        "colab": {
          "base_uri": "https://localhost:8080/",
          "height": 87
        }
      },
      "source": [
        "# Encoding the training data\n",
        "print(\"Printing the first label: \", train_labels[0])\n",
        "encoded_train_labels = encode_labels(train_labels)\n",
        "encoded_test_labels = encode_labels(test_labels)\n",
        "print(\"Printing the first one-hot encoded label: \", encoded_train_labels[0])\n",
        "\n",
        "# Printing the shape\n",
        "print(\"shape of labels(Before encoding) :\", train_labels.shape)\n",
        "print(\"shape of labels(After encoding) :\", encoded_train_labels.shape)"
      ],
      "execution_count": 0,
      "outputs": [
        {
          "output_type": "stream",
          "text": [
            "Printing the first label:  5\n",
            "Printing the first one-hot encoded label:  [0. 0. 0. 0. 0. 1. 0. 0. 0. 0.]\n",
            "shape of labels(Before encoding) : (60000,)\n",
            "shape of labels(After encoding) : (60000, 10)\n"
          ],
          "name": "stdout"
        }
      ]
    },
    {
      "cell_type": "code",
      "metadata": {
        "id": "nuKUg-TUI4VA",
        "colab_type": "code",
        "outputId": "01113559-70aa-417e-efc8-05af20379ac6",
        "colab": {
          "base_uri": "https://localhost:8080/",
          "height": 281
        }
      },
      "source": [
        "def display(index):\n",
        "    \"\"\"\n",
        "    :param index: index of the image in training data\n",
        "    \"\"\"\n",
        "    img = train_images[index]\n",
        "    plt.title('Example %d. Label: %d' % (index, train_labels[index]))\n",
        "    plt.imshow(img.reshape((28,28)), cmap=plt.cm.gray_r)\n",
        "    \n",
        "display(5)"
      ],
      "execution_count": 0,
      "outputs": [
        {
          "output_type": "display_data",
          "data": {
            "image/png": "[encoded data removed]",
            "text/plain": [
              "<Figure size 432x288 with 1 Axes>"
            ]
          },
          "metadata": {
            "tags": []
          }
        }
      ]
    },
    {
      "cell_type": "code",
      "metadata": {
        "id": "lsfKvoTCI6ci",
        "colab_type": "code",
        "colab": {}
      },
      "source": [
        "# Hyperparamters Config\n",
        "\n",
        "learning_rate = 0.01\n",
        "epochs = 100\n",
        "checkpoint_save_path = './tfmodel/'\n",
        "model_save_path = checkpoint_save_path + 'model/'"
      ],
      "execution_count": 0,
      "outputs": []
    },
    {
      "cell_type": "code",
      "metadata": {
        "id": "Ew20rkCWI8uW",
        "colab_type": "code",
        "colab": {}
      },
      "source": [
        "# Starting the tensorflow session\n",
        "sess = tf.Session()\n",
        "\n",
        "# Creating the placeholders for the inputs(images) and outputs(labels)\n",
        "x = tf.placeholder(tf.float32, shape=[None, 784], name=\"x\")\n",
        "y = tf.placeholder(tf.float32, shape=[None, 10], name=\"labels\")\n",
        "\n",
        "# Creating a simple neural network\n",
        "denseLayer1 = tf.layers.dense(x, 512, activation=tf.nn.relu, name='fullyConnectedLayer1')\n",
        "dropoutLayer2 = tf.nn.dropout(denseLayer1, keep_prob=0.2)\n",
        "logits = tf.layers.dense(dropoutLayer2, 10, name=\"output\")\n",
        "\n",
        "# saving the error into a scalar variable\n",
        "with tf.name_scope(\"error\"):\n",
        "    error = tf.reduce_mean(tf.nn.softmax_cross_entropy_with_logits_v2(logits=logits, labels=y), name=\"error\")\n",
        "    tf.summary.scalar(\"error\", error)\n",
        "\n",
        "# Defining the Adam Optimizer\n",
        "with tf.name_scope(\"train\"):\n",
        "    train_step = tf.train.AdamOptimizer(learning_rate).minimize(error)\n",
        "\n",
        "# Saving the accuracy to the scalar\n",
        "with tf.name_scope(\"accuracy\"):\n",
        "    correct_prediction = tf.equal(tf.argmax(logits, 1), tf.argmax(y, 1))\n",
        "    accuracy = tf.reduce_mean(tf.cast(correct_prediction, tf.float32))\n",
        "    tf.summary.scalar(\"accuracy\", accuracy)\n",
        "\n",
        "# Summarizing all the summaries\n",
        "summ = tf.summary.merge_all()\n",
        "\n",
        "# Initializing the saver for creating the checkpoints\n",
        "saver = tf.train.Saver()\n",
        "\n",
        "# Initializing all global variables \n",
        "sess.run(tf.global_variables_initializer())\n",
        "\n",
        "# Defining the save path\n",
        "writer = tf.summary.FileWriter(checkpoint_save_path)\n",
        "writer.add_graph(sess.graph)\n"
      ],
      "execution_count": 0,
      "outputs": []
    },
    {
      "cell_type": "code",
      "metadata": {
        "id": "_TV_NzSbI_Au",
        "colab_type": "code",
        "outputId": "e20a32dc-7ef8-4165-e9e2-4e330b15fa9e",
        "colab": {
          "base_uri": "https://localhost:8080/",
          "height": 364
        }
      },
      "source": [
        "for i in range(1, epochs+1):\n",
        "    \n",
        "    # evaulating the train_step from the given inputs\n",
        "    sess.run(train_step, feed_dict={x: train_images, y: encoded_train_labels})\n",
        "    \n",
        "    # Computing the summary and writing to the tensorboard\n",
        "    # [train_accuracy, s] = sess.run([accuracy, summ], feed_dict={x: train_images, y: encoded_train_labels})\n",
        "    [test_accuracy, s] = sess.run([accuracy, summ], feed_dict={x: test_images, y: encoded_test_labels})\n",
        "    writer.add_summary(s, i)\n",
        "    \n",
        "    # Writing every 5th epoch\n",
        "    if i%5 == 0:\n",
        "      print(\"epoch: {0:} accuracy: {1:.6f}\".format(i, test_accuracy*100))\n",
        "    \n",
        "    # Saving it as a checkpoint\n",
        "    saver.save(sess, os.path.join(checkpoint_save_path, \"model.ckpt\"), i)"
      ],
      "execution_count": 0,
      "outputs": [
        {
          "output_type": "stream",
          "text": [
            "epoch: 5 accuracy: 76.289999\n",
            "epoch: 10 accuracy: 85.100001\n",
            "epoch: 15 accuracy: 88.559997\n",
            "epoch: 20 accuracy: 89.899999\n",
            "epoch: 25 accuracy: 90.829998\n",
            "epoch: 30 accuracy: 91.560000\n",
            "epoch: 35 accuracy: 92.240000\n",
            "epoch: 40 accuracy: 92.519999\n",
            "epoch: 45 accuracy: 93.099999\n",
            "epoch: 50 accuracy: 93.260002\n",
            "epoch: 55 accuracy: 93.760002\n",
            "epoch: 60 accuracy: 93.809998\n",
            "epoch: 65 accuracy: 93.709999\n",
            "epoch: 70 accuracy: 94.029999\n",
            "epoch: 75 accuracy: 94.330001\n",
            "epoch: 80 accuracy: 94.279999\n",
            "epoch: 85 accuracy: 94.250000\n",
            "epoch: 90 accuracy: 94.360000\n",
            "epoch: 95 accuracy: 94.599998\n",
            "epoch: 100 accuracy: 94.760001\n"
          ],
          "name": "stdout"
        }
      ]
    },
    {
      "cell_type": "code",
      "metadata": {
        "id": "y1wc_QVuLeir",
        "colab_type": "code",
        "outputId": "c63b4a73-7e7a-41e3-bfc9-8f087dfa6752",
        "colab": {
          "base_uri": "https://localhost:8080/",
          "height": 87
        }
      },
      "source": [
        "# Initializing the tensorflow save builder\n",
        "builder = tf.saved_model.builder.SavedModelBuilder(model_save_path)\n",
        "\n",
        "# Computing the input and output tensor information \n",
        "tensor_info_x = tf.saved_model.utils.build_tensor_info(x)\n",
        "tensor_info_y = tf.saved_model.utils.build_tensor_info(logits)\n",
        "\n",
        "# Creating the prediction signature\n",
        "prediction_signature = (\n",
        "    tf.saved_model.signature_def_utils.build_signature_def(\n",
        "        inputs={'images': tensor_info_x},\n",
        "        outputs={'scores': tensor_info_y},\n",
        "        method_name=tf.saved_model.signature_constants.PREDICT_METHOD_NAME\n",
        "    )\n",
        ")\n",
        "\n",
        "# Adding the signature to the graph\n",
        "builder.add_meta_graph_and_variables(\n",
        "      sess, [tf.saved_model.tag_constants.SERVING],\n",
        "      signature_def_map={\n",
        "          'predict_images':\n",
        "              prediction_signature\n",
        "      }\n",
        ")\n",
        "\n",
        "# Saving the model (production serving model)\n",
        "builder.save()"
      ],
      "execution_count": 0,
      "outputs": [
        {
          "output_type": "stream",
          "text": [
            "INFO:tensorflow:No assets to save.\n",
            "INFO:tensorflow:No assets to write.\n",
            "INFO:tensorflow:SavedModel written to: ./tfmodel/model/saved_model.pb\n"
          ],
          "name": "stdout"
        },
        {
          "output_type": "execute_result",
          "data": {
            "text/plain": [
              "b'./tfmodel/model/saved_model.pb'"
            ]
          },
          "metadata": {
            "tags": []
          },
          "execution_count": 13
        }
      ]
    },
    {
      "cell_type": "code",
      "metadata": {
        "id": "FpJzv2rxNzY6",
        "colab_type": "code",
        "outputId": "5c795d78-0337-48c9-de54-7a670fa92b47",
        "colab": {
          "base_uri": "https://localhost:8080/",
          "height": 416
        }
      },
      "source": [
        "!zip -r tfmodel.zip tfmodel"
      ],
      "execution_count": 0,
      "outputs": [
        {
          "output_type": "stream",
          "text": [
            "  adding: tfmodel/ (stored 0%)\n",
            "  adding: tfmodel/model.ckpt-96.meta (deflated 86%)\n",
            "  adding: tfmodel/model.ckpt-100.data-00000-of-00001 (deflated 12%)\n",
            "  adding: tfmodel/model.ckpt-98.meta (deflated 86%)\n",
            "  adding: tfmodel/model.ckpt-99.index (deflated 38%)\n",
            "  adding: tfmodel/model.ckpt-100.meta (deflated 86%)\n",
            "  adding: tfmodel/events.out.tfevents.1567512587.c4b8c7277b2f (deflated 86%)\n",
            "  adding: tfmodel/model.ckpt-97.data-00000-of-00001 (deflated 12%)\n",
            "  adding: tfmodel/model.ckpt-99.meta (deflated 86%)\n",
            "  adding: tfmodel/checkpoint (deflated 75%)\n",
            "  adding: tfmodel/model.ckpt-96.index (deflated 38%)\n",
            "  adding: tfmodel/model/ (stored 0%)\n",
            "  adding: tfmodel/model/variables/ (stored 0%)\n",
            "  adding: tfmodel/model/variables/variables.data-00000-of-00001 (deflated 12%)\n",
            "  adding: tfmodel/model/variables/variables.index (deflated 38%)\n",
            "  adding: tfmodel/model/saved_model.pb (deflated 86%)\n",
            "  adding: tfmodel/model.ckpt-97.meta (deflated 86%)\n",
            "  adding: tfmodel/model.ckpt-98.data-00000-of-00001 (deflated 12%)\n",
            "  adding: tfmodel/model.ckpt-96.data-00000-of-00001 (deflated 12%)\n",
            "  adding: tfmodel/model.ckpt-100.index (deflated 38%)\n",
            "  adding: tfmodel/model.ckpt-99.data-00000-of-00001 (deflated 12%)\n",
            "  adding: tfmodel/model.ckpt-98.index (deflated 38%)\n",
            "  adding: tfmodel/model.ckpt-97.index (deflated 38%)\n"
          ],
          "name": "stdout"
        }
      ]
    },
    {
      "cell_type": "code",
      "metadata": {
        "id": "9_7-Tp8FN2ph",
        "colab_type": "code",
        "colab": {}
      },
      "source": [
        ""
      ],
      "execution_count": 0,
      "outputs": []
    }
  ]
}